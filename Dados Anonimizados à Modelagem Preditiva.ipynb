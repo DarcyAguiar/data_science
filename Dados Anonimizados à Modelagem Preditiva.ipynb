{
 "cells": [
  {
   "cell_type": "markdown",
   "metadata": {},
   "source": [
    "## <font color='blue'>Data Science Para Análise Multivariada de Dados</font>\n",
    "## <font color='blue'>Parte 2 - Modelagem</font>\n",
    "### <font color='blue'>Seleção de Modelos de Machine Learning em Análise Multivariada com Dados Anonimizados</font>"
   ]
  },
  {
   "cell_type": "markdown",
   "metadata": {},
   "source": [
    "### Carregando Pacotes"
   ]
  },
  {
   "cell_type": "code",
   "execution_count": 3,
   "metadata": {},
   "outputs": [],
   "source": [
    "# Imports\n",
    "import pickle\n",
    "import pandas as pd\n",
    "import numpy as np\n",
    "import seaborn as sns\n",
    "import matplotlib.pyplot as plt\n",
    "import xgboost as xgb\n",
    "import sklearn\n",
    "from sklearn.preprocessing import StandardScaler\n",
    "from sklearn.linear_model import LogisticRegression\n",
    "from sklearn.naive_bayes import GaussianNB\n",
    "from xgboost import XGBClassifier\n",
    "from sklearn.ensemble import RandomForestClassifier\n",
    "from sklearn.metrics import roc_auc_score, accuracy_score, precision_score, recall_score, roc_curve\n",
    "import warnings\n",
    "warnings.filterwarnings('ignore')"
   ]
  },
  {
   "cell_type": "markdown",
   "metadata": {},
   "source": [
    "## Carregando os Dados Pré-Processados"
   ]
  },
  {
   "cell_type": "code",
   "execution_count": 6,
   "metadata": {},
   "outputs": [],
   "source": [
    "# Carregando o dataset de treino\n",
    "df_treino = pd.read_csv('dados/dados_treino.csv')\n",
    "\n",
    "# Carregando o dataset de treino final\n",
    "df_treino_final = pd.read_csv('dados/dados_treino_final.csv')\n",
    "\n",
    "# Carregando o dataset de validação\n",
    "df_valid = pd.read_csv('dados/dados_valid.csv')\n",
    "\n",
    "# Carregando o dataset de teste\n",
    "df_teste = pd.read_csv('dados/dados_teste.csv')"
   ]
  },
  {
   "cell_type": "code",
   "execution_count": 8,
   "metadata": {},
   "outputs": [],
   "source": [
    "# Carregando os nomes das colunas de entrada\n",
    "with open('dados/colunas_entrada.sav', 'rb') as file:\n",
    "    colunas_entrada = pickle.load(file)"
   ]
  },
  {
   "cell_type": "markdown",
   "metadata": {},
   "source": [
    "## Preparando as Matrizes"
   ]
  },
  {
   "cell_type": "code",
   "execution_count": 11,
   "metadata": {},
   "outputs": [],
   "source": [
    "# Prepara a Matriz X\n",
    "X_treino = df_treino_final[colunas_entrada].values\n",
    "X_valid = df_valid[colunas_entrada].values\n",
    "X_teste = df_teste[colunas_entrada].values"
   ]
  },
  {
   "cell_type": "code",
   "execution_count": 13,
   "metadata": {},
   "outputs": [],
   "source": [
    "# Prepara a Matriz Y\n",
    "y_treino = df_treino_final['LABEL_TARGET'].values\n",
    "y_valid = df_valid['LABEL_TARGET'].values\n",
    "y_teste = df_teste['LABEL_TARGET'].values"
   ]
  },
  {
   "cell_type": "code",
   "execution_count": 15,
   "metadata": {},
   "outputs": [
    {
     "name": "stdout",
     "output_type": "stream",
     "text": [
      "Shape dos dados de treino: (3238, 178) (3238,)\n",
      "Shape dos dados de validação: (1725, 178) (1725,)\n",
      "Shape dos dados de teste: (1725, 178) (1725,)\n"
     ]
    }
   ],
   "source": [
    "# Print\n",
    "print('Shape dos dados de treino:', X_treino.shape, y_treino.shape)\n",
    "print('Shape dos dados de validação:', X_valid.shape, y_valid.shape)\n",
    "print('Shape dos dados de teste:', X_teste.shape, y_teste.shape)"
   ]
  },
  {
   "cell_type": "code",
   "execution_count": 17,
   "metadata": {},
   "outputs": [
    {
     "data": {
      "text/plain": [
       "numpy.ndarray"
      ]
     },
     "execution_count": 17,
     "metadata": {},
     "output_type": "execute_result"
    }
   ],
   "source": [
    "type(X_treino)"
   ]
  },
  {
   "cell_type": "code",
   "execution_count": 19,
   "metadata": {},
   "outputs": [
    {
     "data": {
      "text/plain": [
       "array([[  -8,  -11,  -19, ...,   18,   12,    2],\n",
       "       [ -49,  -53,  -58, ...,  -76,  -29,   -2],\n",
       "       [ -42,   -8,   19, ...,  -34,  -27,  -26],\n",
       "       ...,\n",
       "       [  99,  246,  409, ...,   67,   10,  -23],\n",
       "       [   3,    2,   -7, ..., -108, -107,  -97],\n",
       "       [-300, -334, -341, ..., -361, -360, -357]], dtype=int64)"
      ]
     },
     "execution_count": 19,
     "metadata": {},
     "output_type": "execute_result"
    }
   ],
   "source": [
    "X_valid"
   ]
  },
  {
   "cell_type": "markdown",
   "metadata": {},
   "source": [
    "## Padronização dos Dados"
   ]
  },
  {
   "cell_type": "code",
   "execution_count": 22,
   "metadata": {},
   "outputs": [],
   "source": [
    "# Crio o objeto\n",
    "scaler = StandardScaler()\n",
    "\n",
    "# Faço o fit\n",
    "scaler.fit(X_treino)\n",
    "\n",
    "# Salva o objeto em disco e carrega para usarmos adiante\n",
    "scalerfile = 'dados/scaler.sav'\n",
    "pickle.dump(scaler, open(scalerfile, 'wb'))\n",
    "\n",
    "# Carrega o scaler (padronizador)\n",
    "scaler = pickle.load(open(scalerfile, 'rb'))\n",
    "\n",
    "# Aplica a padronização em nossas matrizes de dados\n",
    "X_treino_tf = scaler.transform(X_treino)\n",
    "X_valid_tf = scaler.transform(X_valid)"
   ]
  },
  {
   "cell_type": "code",
   "execution_count": 24,
   "metadata": {},
   "outputs": [
    {
     "data": {
      "text/plain": [
       "array([[ 0.07822634, -0.03338141, -0.14620281, ...,  1.03909618,\n",
       "         0.9152853 ,  0.76259816],\n",
       "       [-0.4023194 , -0.27723708, -0.12986273, ..., -1.42624329,\n",
       "        -1.36907003, -1.31947084],\n",
       "       [-0.10659895, -0.05776698, -0.03999231, ..., -0.35860867,\n",
       "        -0.36477688, -0.29073202],\n",
       "       ...,\n",
       "       [-0.43928446, -0.48451439, -0.47300433, ..., -0.16301149,\n",
       "        -0.06019617,  0.06174423],\n",
       "       [-0.21338689, -0.27317281, -0.31368859, ...,  0.11408451,\n",
       "         0.14560161,  0.11502552],\n",
       "       [ 0.48484197,  0.42994434,  0.33991446, ..., -0.15893655,\n",
       "        -0.26599395, -0.36040756]])"
      ]
     },
     "execution_count": 24,
     "metadata": {},
     "output_type": "execute_result"
    }
   ],
   "source": [
    "X_treino_tf"
   ]
  },
  {
   "cell_type": "markdown",
   "metadata": {},
   "source": [
    "## Modelagem Preditiva"
   ]
  },
  {
   "cell_type": "markdown",
   "metadata": {},
   "source": [
    "### Funções Auxiliares"
   ]
  },
  {
   "cell_type": "code",
   "execution_count": 28,
   "metadata": {},
   "outputs": [],
   "source": [
    "# Função para calcular a especificidade\n",
    "def df_calcula_especificidade(y_actual, y_pred, thresh):\n",
    "    return sum((y_pred < thresh) & (y_actual == 0)) / sum(y_actual == 0)"
   ]
  },
  {
   "cell_type": "markdown",
   "metadata": {},
   "source": [
    "A especificidade é uma métrica usada para avaliar o desempenho de um modelo de classificação, especialmente em problemas de classificação binária. Ela mede a proporção de verdadeiros negativos (TN) em relação ao total de negativos reais, ou seja, a capacidade do modelo de identificar corretamente as instâncias negativas.\n",
    "\n",
    "Aqui está o que cada parte significa:\n",
    "\n",
    "**y_pred < thresh**: Esta é uma condição que verifica se a previsão do modelo (y_pred) é menor que um determinado limiar (thresh). Se o modelo for de classificação binária, esse limiar geralmente é 0.5, mas pode ser ajustado de acordo com as necessidades específicas do problema. Essa condição retorna um vetor booleano, onde cada elemento é True se a previsão for menor que o limiar (indicando uma previsão de classe negativa) e False caso contrário.\n",
    "\n",
    "**y_actual == 0**: Esta é uma condição que verifica quais elementos do vetor de rótulos reais (y_actual) são iguais a 0, ou seja, pertencem à classe negativa. Isso também retorna um vetor booleano.\n",
    "\n",
    "**(y_pred < thresh) & (y_actual == 0)**: Este é o operador lógico \"e\" aplicado entre os dois vetores booleanos anteriores. Ele retorna um novo vetor booleano, onde cada elemento é True apenas se ambas as condições forem verdadeiras para esse elemento, ou seja, se a previsão for negativa e o rótulo real também for negativo. Isso representa os verdadeiros negativos (TN).\n",
    "\n",
    "**sum((y_pred < thresh) & (y_actual == 0))**: Esta é a soma dos valores True no vetor booleano resultante, que é equivalente ao número de verdadeiros negativos (TN).\n",
    "\n",
    "**sum(y_actual == 0)**: Esta é a soma dos valores True no vetor booleano que representa os rótulos reais negativos, que é equivalente ao número total de instâncias negativas reais (TN + FP).\n",
    "\n",
    "**sum((y_pred < thresh) & (y_actual == 0)) / sum(y_actual == 0)**: Esta é a razão entre o número de verdadeiros negativos (TN) e o número total de instâncias negativas reais (TN + FP), que é a definição de especificidade."
   ]
  },
  {
   "cell_type": "code",
   "execution_count": 31,
   "metadata": {},
   "outputs": [],
   "source": [
    "# Função para gerar relatório de métricas\n",
    "def df_print_report(y_actual, y_pred, thresh):\n",
    "    \n",
    "    auc = roc_auc_score(y_actual, y_pred)\n",
    "    accuracy = accuracy_score(y_actual, (y_pred > thresh))\n",
    "    recall = recall_score(y_actual, (y_pred > thresh))\n",
    "    precision = precision_score(y_actual, (y_pred > thresh))\n",
    "    specificity = df_calcula_especificidade(y_actual, y_pred, thresh)\n",
    "    \n",
    "    print('AUC:%.3f'%auc)\n",
    "    print('Acurácia:%.3f'%accuracy)\n",
    "    print('Recall:%.3f'%recall)\n",
    "    print('Precisão:%.3f'%precision)\n",
    "    print('Especificidade:%.3f'%specificity)\n",
    "    print(' ')\n",
    "    \n",
    "    return auc, accuracy, recall, precision, specificity "
   ]
  },
  {
   "cell_type": "code",
   "execution_count": 33,
   "metadata": {},
   "outputs": [],
   "source": [
    "thresh = 0.5"
   ]
  },
  {
   "cell_type": "markdown",
   "metadata": {},
   "source": [
    "### Versão 1 do Modelo - Regressão Logística (Sem Otimização de Hiperparâmetros)"
   ]
  },
  {
   "cell_type": "code",
   "execution_count": 36,
   "metadata": {},
   "outputs": [
    {
     "name": "stdout",
     "output_type": "stream",
     "text": [
      "Modelo de Regressão Logística (Sem Otimização de Hiperparâmetros)\n",
      "\n",
      "Treinamento:\n",
      "\n",
      "AUC:0.623\n",
      "Acurácia:0.644\n",
      "Recall:0.532\n",
      "Precisão:0.685\n",
      "Especificidade:0.755\n",
      " \n",
      "Validação:\n",
      "\n",
      "AUC:0.508\n",
      "Acurácia:0.668\n",
      "Recall:0.434\n",
      "Precisão:0.282\n",
      "Especificidade:0.726\n",
      " \n"
     ]
    }
   ],
   "source": [
    "# Construção do modelo\n",
    "\n",
    "# Cria o classificador (objeto)\n",
    "lr1 = LogisticRegression()\n",
    "\n",
    "# Treina e cria o modelo\n",
    "modelo_v1 = lr1.fit(X_treino_tf, y_treino)\n",
    "\n",
    "# Previsões \n",
    "y_train_preds = modelo_v1.predict_proba(X_treino_tf)[:,1]\n",
    "y_valid_preds = modelo_v1.predict_proba(X_valid_tf)[:,1]\n",
    "\n",
    "print('Modelo de Regressão Logística (Sem Otimização de Hiperparâmetros)\\n')\n",
    "\n",
    "print('Treinamento:\\n')\n",
    "lr1_train_auc, lr1_train_accuracy, lr1_train_recall, lr1_train_precision, lr1_train_specificity = df_print_report(y_treino, \n",
    "                                                                                                                   y_train_preds, \n",
    "                                                                                                                   thresh)\n",
    "\n",
    "print('Validação:\\n')\n",
    "lr1_valid_auc, lr1_valid_accuracy, lr1_valid_recall, lr1_valid_precision, lr1_valid_specificity = df_print_report(y_valid, \n",
    "                                                                                                                   y_valid_preds, \n",
    "                                                                                                                   thresh)\n"
   ]
  },
  {
   "cell_type": "markdown",
   "metadata": {},
   "source": [
    "### Versão 2 do Modelo - Regressão Logística (Com Otimização de Hiperparâmetros)"
   ]
  },
  {
   "cell_type": "code",
   "execution_count": 39,
   "metadata": {},
   "outputs": [
    {
     "name": "stdout",
     "output_type": "stream",
     "text": [
      "Modelo de Regressão Logística (Com Otimização de Hiperparâmetros)\n",
      "\n",
      "Treinamento:\n",
      "\n",
      "AUC:0.625\n",
      "Acurácia:0.644\n",
      "Recall:0.531\n",
      "Precisão:0.687\n",
      "Especificidade:0.758\n",
      " \n",
      "Validação:\n",
      "\n",
      "AUC:0.511\n",
      "Acurácia:0.670\n",
      "Recall:0.429\n",
      "Precisão:0.282\n",
      "Especificidade:0.729\n",
      " \n"
     ]
    }
   ],
   "source": [
    "# Construção do modelo\n",
    "\n",
    "# Cria o classificador (objeto)\n",
    "lr2 = LogisticRegression(random_state = 142, solver = 'liblinear')\n",
    "\n",
    "# Treina e cria o modelo\n",
    "modelo_v2 = lr2.fit(X_treino_tf, y_treino)\n",
    "\n",
    "# Previsões \n",
    "y_train_preds = modelo_v2.predict_proba(X_treino_tf)[:,1]\n",
    "y_valid_preds = modelo_v2.predict_proba(X_valid_tf)[:,1]\n",
    "\n",
    "print('Modelo de Regressão Logística (Com Otimização de Hiperparâmetros)\\n')\n",
    "\n",
    "print('Treinamento:\\n')\n",
    "lr2_train_auc, lr2_train_accuracy, lr2_train_recall, lr2_train_precision, lr2_train_specificity = df_print_report(y_treino, \n",
    "                                                                                                                   y_train_preds, \n",
    "                                                                                                                   thresh)\n",
    "\n",
    "print('Validação:\\n')\n",
    "lr2_valid_auc, lr2_valid_accuracy, lr2_valid_recall, lr2_valid_precision, lr2_valid_specificity = df_print_report(y_valid, \n",
    "                                                                                                                   y_valid_preds, \n",
    "                                                                                                                   thresh)\n"
   ]
  },
  {
   "cell_type": "markdown",
   "metadata": {},
   "source": [
    "### Versão 3 do Modelo - Naive Bayes\n"
   ]
  },
  {
   "cell_type": "code",
   "execution_count": 42,
   "metadata": {},
   "outputs": [
    {
     "name": "stdout",
     "output_type": "stream",
     "text": [
      "Modelo Naive Bayes:\n",
      "\n",
      "Treinamento:\n",
      "\n",
      "AUC:0.984\n",
      "Acurácia:0.935\n",
      "Recall:0.898\n",
      "Precisão:0.971\n",
      "Especificidade:0.973\n",
      " \n",
      "Validação:\n",
      "\n",
      "AUC:0.986\n",
      "Acurácia:0.960\n",
      "Recall:0.892\n",
      "Precisão:0.905\n",
      "Especificidade:0.977\n",
      " \n"
     ]
    }
   ],
   "source": [
    "# Construção do modelo\n",
    "\n",
    "# Cria o classificador (objeto)\n",
    "nb = GaussianNB()\n",
    "\n",
    "# Treina e cria o modelo\n",
    "modelo_v3 = nb.fit(X_treino_tf, y_treino)\n",
    "\n",
    "# Previsões\n",
    "y_train_preds = modelo_v3.predict_proba(X_treino_tf)[:,1]\n",
    "y_valid_preds = modelo_v3.predict_proba(X_valid_tf)[:,1]\n",
    "\n",
    "print('Modelo Naive Bayes:\\n')\n",
    "\n",
    "print('Treinamento:\\n')\n",
    "nb_train_auc, nb_train_accuracy, nb_train_recall, nb_train_precision, nb_train_specificity = df_print_report(y_treino, \n",
    "                                                                                                              y_train_preds, \n",
    "                                                                                                              thresh)\n",
    "\n",
    "print('Validação:\\n')\n",
    "nb_valid_auc, nb_valid_accuracy, nb_valid_recall, nb_valid_precision, nb_valid_specificity = df_print_report(y_valid, \n",
    "                                                                                                              y_valid_preds, \n",
    "                                                                                                              thresh)\n"
   ]
  },
  {
   "cell_type": "markdown",
   "metadata": {},
   "source": [
    "### Versão 4 do Modelo - XGBoost (Xtreme Gradient Boosting Classifier)"
   ]
  },
  {
   "cell_type": "code",
   "execution_count": 45,
   "metadata": {},
   "outputs": [
    {
     "name": "stdout",
     "output_type": "stream",
     "text": [
      "Modelo Xtreme Gradient Boosting Classifier:\n",
      "\n",
      "Treinamento:\n",
      "\n",
      "AUC:1.000\n",
      "Acurácia:1.000\n",
      "Recall:1.000\n",
      "Precisão:1.000\n",
      "Especificidade:1.000\n",
      " \n",
      "Validação:\n",
      "\n",
      "AUC:0.992\n",
      "Acurácia:0.966\n",
      "Recall:0.948\n",
      "Precisão:0.890\n",
      "Especificidade:0.971\n",
      " \n"
     ]
    }
   ],
   "source": [
    "# Construção do modelo (Ensemble)\n",
    "\n",
    "# Cria o classificador\n",
    "xgbc = XGBClassifier()\n",
    "\n",
    "# Treina e cria o modelo\n",
    "modelo_v4 = xgbc.fit(X_treino_tf, y_treino)\n",
    "\n",
    "# Previsões\n",
    "y_train_preds = modelo_v4.predict_proba(X_treino_tf)[:,1]\n",
    "y_valid_preds = modelo_v4.predict_proba(X_valid_tf)[:,1]\n",
    "\n",
    "print('Modelo Xtreme Gradient Boosting Classifier:\\n')\n",
    "\n",
    "print('Treinamento:\\n')\n",
    "xgbc_train_auc, xgbc_train_accuracy, xgbc_train_recall, xgbc_train_precision, xgbc_train_specificity = df_print_report(y_treino, \n",
    "                                                                                                                        y_train_preds, \n",
    "                                                                                                                        thresh)\n",
    "\n",
    "print('Validação:\\n')\n",
    "xgbc_valid_auc, xgbc_valid_accuracy, xgbc_valid_recall, xgbc_valid_precision, xgbc_valid_specificity = df_print_report(y_valid, \n",
    "                                                                                                                        y_valid_preds, \n",
    "                                                                                                                        thresh)\n"
   ]
  },
  {
   "cell_type": "markdown",
   "metadata": {},
   "source": [
    "## Versão 5 do Modelo - RandomForest\n"
   ]
  },
  {
   "cell_type": "code",
   "execution_count": 48,
   "metadata": {},
   "outputs": [
    {
     "name": "stdout",
     "output_type": "stream",
     "text": [
      "Modelo Random Forest Classifier:\n",
      "\n",
      "Treinamento:\n",
      "\n",
      "AUC:1.000\n",
      "Acurácia:1.000\n",
      "Recall:1.000\n",
      "Precisão:1.000\n",
      "Especificidade:1.000\n",
      " \n",
      "Validação:\n",
      "\n",
      "AUC:0.993\n",
      "Acurácia:0.958\n",
      "Recall:0.983\n",
      "Precisão:0.836\n",
      "Especificidade:0.950\n",
      " \n"
     ]
    }
   ],
   "source": [
    "# Cria o classificador com RandomForest\n",
    "rfc = RandomForestClassifier()\n",
    "\n",
    "# Treina e cria o modelo\n",
    "modelo_v5 = rfc.fit(X_treino_tf, y_treino)\n",
    "\n",
    "# Previsões\n",
    "y_train_preds = modelo_v5.predict_proba(X_treino_tf)[:,1]\n",
    "y_valid_preds = modelo_v5.predict_proba(X_valid_tf)[:,1]\n",
    "\n",
    "print('Modelo Random Forest Classifier:\\n')\n",
    "\n",
    "print('Treinamento:\\n')\n",
    "rfc_train_auc, rfc_train_accuracy, rfc_train_recall, rfc_train_precision, rfc_train_specificity = df_print_report(y_treino, \n",
    "                                                                                                                   y_train_preds, \n",
    "                                                                                                                   thresh)\n",
    "\n",
    "print('Validação:\\n')\n",
    "rfc_valid_auc, rfc_valid_accuracy, rfc_valid_recall, rfc_valid_precision, rfc_valid_specificity = df_print_report(y_valid, \n",
    "                                                                                                                   y_valid_preds, \n",
    "                                                                                                                   thresh)\n"
   ]
  },
  {
   "cell_type": "markdown",
   "metadata": {},
   "source": [
    "### Seleção de Modelos"
   ]
  },
  {
   "cell_type": "code",
   "execution_count": 50,
   "metadata": {},
   "outputs": [],
   "source": [
    "# Tabela de resultados\n",
    "df_results = pd.DataFrame({'classificador':['RL1', 'RL1', 'RL2', 'RL2', 'NB', 'NB', 'XGB', 'XGB', 'RFC', 'RFC'],\n",
    "                           'data_set':['treino','valid'] * 5,\n",
    "                           'auc':[lr1_train_auc,\n",
    "                                  lr1_valid_auc,\n",
    "                                  lr2_train_auc,\n",
    "                                  lr2_valid_auc,\n",
    "                                  nb_train_auc,\n",
    "                                  nb_valid_auc,\n",
    "                                  xgbc_train_auc,\n",
    "                                  xgbc_valid_auc,\n",
    "                                  rfc_train_auc,\n",
    "                                  rfc_valid_auc],\n",
    "                           'accuracy':[lr1_train_accuracy,\n",
    "                                       lr1_valid_accuracy,\n",
    "                                       lr2_train_accuracy,\n",
    "                                       lr2_valid_accuracy,\n",
    "                                       nb_train_accuracy,\n",
    "                                       nb_valid_accuracy,\n",
    "                                       xgbc_train_accuracy,\n",
    "                                       xgbc_valid_accuracy,\n",
    "                                       rfc_train_accuracy,\n",
    "                                       rfc_valid_accuracy],\n",
    "                           'recall':[lr1_train_recall,\n",
    "                                     lr1_valid_recall,\n",
    "                                     lr2_train_recall,\n",
    "                                     lr2_valid_recall,\n",
    "                                     nb_train_recall,\n",
    "                                     nb_valid_recall,\n",
    "                                     xgbc_train_recall,\n",
    "                                     xgbc_valid_recall,\n",
    "                                     rfc_train_recall,\n",
    "                                     rfc_valid_recall],\n",
    "                           'precision':[lr1_train_precision,\n",
    "                                        lr1_valid_precision,\n",
    "                                        lr2_train_precision,\n",
    "                                        lr2_valid_precision,\n",
    "                                        nb_train_precision,\n",
    "                                        nb_valid_precision,\n",
    "                                        xgbc_train_precision,\n",
    "                                        xgbc_valid_precision,\n",
    "                                        rfc_train_precision,\n",
    "                                        rfc_valid_precision],\n",
    "                           'specificity':[lr1_train_specificity,\n",
    "                                          lr1_valid_specificity,\n",
    "                                          lr2_train_specificity,\n",
    "                                          lr2_valid_specificity,\n",
    "                                          nb_train_specificity,\n",
    "                                          nb_valid_specificity,\n",
    "                                          xgbc_train_specificity,\n",
    "                                          xgbc_valid_specificity,\n",
    "                                          rfc_train_specificity,\n",
    "                                          rfc_valid_specificity]})"
   ]
  },
  {
   "cell_type": "code",
   "execution_count": 52,
   "metadata": {},
   "outputs": [
    {
     "data": {
      "text/html": [
       "<div>\n",
       "<style scoped>\n",
       "    .dataframe tbody tr th:only-of-type {\n",
       "        vertical-align: middle;\n",
       "    }\n",
       "\n",
       "    .dataframe tbody tr th {\n",
       "        vertical-align: top;\n",
       "    }\n",
       "\n",
       "    .dataframe thead th {\n",
       "        text-align: right;\n",
       "    }\n",
       "</style>\n",
       "<table border=\"1\" class=\"dataframe\">\n",
       "  <thead>\n",
       "    <tr style=\"text-align: right;\">\n",
       "      <th></th>\n",
       "      <th>classificador</th>\n",
       "      <th>data_set</th>\n",
       "      <th>auc</th>\n",
       "      <th>accuracy</th>\n",
       "      <th>recall</th>\n",
       "      <th>precision</th>\n",
       "      <th>specificity</th>\n",
       "    </tr>\n",
       "  </thead>\n",
       "  <tbody>\n",
       "    <tr>\n",
       "      <th>0</th>\n",
       "      <td>RL1</td>\n",
       "      <td>treino</td>\n",
       "      <td>0.623185</td>\n",
       "      <td>0.643607</td>\n",
       "      <td>0.531810</td>\n",
       "      <td>0.684964</td>\n",
       "      <td>0.755405</td>\n",
       "    </tr>\n",
       "    <tr>\n",
       "      <th>1</th>\n",
       "      <td>RL1</td>\n",
       "      <td>valid</td>\n",
       "      <td>0.508352</td>\n",
       "      <td>0.667826</td>\n",
       "      <td>0.434402</td>\n",
       "      <td>0.282197</td>\n",
       "      <td>0.725760</td>\n",
       "    </tr>\n",
       "    <tr>\n",
       "      <th>2</th>\n",
       "      <td>RL2</td>\n",
       "      <td>treino</td>\n",
       "      <td>0.625052</td>\n",
       "      <td>0.644225</td>\n",
       "      <td>0.530574</td>\n",
       "      <td>0.686651</td>\n",
       "      <td>0.757875</td>\n",
       "    </tr>\n",
       "    <tr>\n",
       "      <th>3</th>\n",
       "      <td>RL2</td>\n",
       "      <td>valid</td>\n",
       "      <td>0.510786</td>\n",
       "      <td>0.669565</td>\n",
       "      <td>0.428571</td>\n",
       "      <td>0.282150</td>\n",
       "      <td>0.729378</td>\n",
       "    </tr>\n",
       "    <tr>\n",
       "      <th>4</th>\n",
       "      <td>NB</td>\n",
       "      <td>treino</td>\n",
       "      <td>0.983968</td>\n",
       "      <td>0.935454</td>\n",
       "      <td>0.898085</td>\n",
       "      <td>0.970628</td>\n",
       "      <td>0.972823</td>\n",
       "    </tr>\n",
       "    <tr>\n",
       "      <th>5</th>\n",
       "      <td>NB</td>\n",
       "      <td>valid</td>\n",
       "      <td>0.986101</td>\n",
       "      <td>0.960000</td>\n",
       "      <td>0.892128</td>\n",
       "      <td>0.905325</td>\n",
       "      <td>0.976845</td>\n",
       "    </tr>\n",
       "    <tr>\n",
       "      <th>6</th>\n",
       "      <td>XGB</td>\n",
       "      <td>treino</td>\n",
       "      <td>1.000000</td>\n",
       "      <td>1.000000</td>\n",
       "      <td>1.000000</td>\n",
       "      <td>1.000000</td>\n",
       "      <td>1.000000</td>\n",
       "    </tr>\n",
       "    <tr>\n",
       "      <th>7</th>\n",
       "      <td>XGB</td>\n",
       "      <td>valid</td>\n",
       "      <td>0.992178</td>\n",
       "      <td>0.966377</td>\n",
       "      <td>0.947522</td>\n",
       "      <td>0.890411</td>\n",
       "      <td>0.971056</td>\n",
       "    </tr>\n",
       "    <tr>\n",
       "      <th>8</th>\n",
       "      <td>RFC</td>\n",
       "      <td>treino</td>\n",
       "      <td>1.000000</td>\n",
       "      <td>1.000000</td>\n",
       "      <td>1.000000</td>\n",
       "      <td>1.000000</td>\n",
       "      <td>1.000000</td>\n",
       "    </tr>\n",
       "    <tr>\n",
       "      <th>9</th>\n",
       "      <td>RFC</td>\n",
       "      <td>valid</td>\n",
       "      <td>0.993254</td>\n",
       "      <td>0.958261</td>\n",
       "      <td>0.982507</td>\n",
       "      <td>0.836228</td>\n",
       "      <td>0.950072</td>\n",
       "    </tr>\n",
       "  </tbody>\n",
       "</table>\n",
       "</div>"
      ],
      "text/plain": [
       "  classificador data_set       auc  accuracy    recall  precision  specificity\n",
       "0           RL1   treino  0.623185  0.643607  0.531810   0.684964     0.755405\n",
       "1           RL1    valid  0.508352  0.667826  0.434402   0.282197     0.725760\n",
       "2           RL2   treino  0.625052  0.644225  0.530574   0.686651     0.757875\n",
       "3           RL2    valid  0.510786  0.669565  0.428571   0.282150     0.729378\n",
       "4            NB   treino  0.983968  0.935454  0.898085   0.970628     0.972823\n",
       "5            NB    valid  0.986101  0.960000  0.892128   0.905325     0.976845\n",
       "6           XGB   treino  1.000000  1.000000  1.000000   1.000000     1.000000\n",
       "7           XGB    valid  0.992178  0.966377  0.947522   0.890411     0.971056\n",
       "8           RFC   treino  1.000000  1.000000  1.000000   1.000000     1.000000\n",
       "9           RFC    valid  0.993254  0.958261  0.982507   0.836228     0.950072"
      ]
     },
     "execution_count": 52,
     "metadata": {},
     "output_type": "execute_result"
    }
   ],
   "source": [
    "# Resultados\n",
    "df_results"
   ]
  },
  {
   "cell_type": "code",
   "execution_count": 54,
   "metadata": {},
   "outputs": [
    {
     "data": {
      "text/html": [
       "<div>\n",
       "<style scoped>\n",
       "    .dataframe tbody tr th:only-of-type {\n",
       "        vertical-align: middle;\n",
       "    }\n",
       "\n",
       "    .dataframe tbody tr th {\n",
       "        vertical-align: top;\n",
       "    }\n",
       "\n",
       "    .dataframe thead th {\n",
       "        text-align: right;\n",
       "    }\n",
       "</style>\n",
       "<table border=\"1\" class=\"dataframe\">\n",
       "  <thead>\n",
       "    <tr style=\"text-align: right;\">\n",
       "      <th></th>\n",
       "      <th>classificador</th>\n",
       "      <th>data_set</th>\n",
       "      <th>auc</th>\n",
       "      <th>accuracy</th>\n",
       "      <th>recall</th>\n",
       "      <th>precision</th>\n",
       "      <th>specificity</th>\n",
       "    </tr>\n",
       "  </thead>\n",
       "  <tbody>\n",
       "    <tr>\n",
       "      <th>9</th>\n",
       "      <td>RFC</td>\n",
       "      <td>valid</td>\n",
       "      <td>0.993254</td>\n",
       "      <td>0.958261</td>\n",
       "      <td>0.982507</td>\n",
       "      <td>0.836228</td>\n",
       "      <td>0.950072</td>\n",
       "    </tr>\n",
       "    <tr>\n",
       "      <th>7</th>\n",
       "      <td>XGB</td>\n",
       "      <td>valid</td>\n",
       "      <td>0.992178</td>\n",
       "      <td>0.966377</td>\n",
       "      <td>0.947522</td>\n",
       "      <td>0.890411</td>\n",
       "      <td>0.971056</td>\n",
       "    </tr>\n",
       "    <tr>\n",
       "      <th>5</th>\n",
       "      <td>NB</td>\n",
       "      <td>valid</td>\n",
       "      <td>0.986101</td>\n",
       "      <td>0.960000</td>\n",
       "      <td>0.892128</td>\n",
       "      <td>0.905325</td>\n",
       "      <td>0.976845</td>\n",
       "    </tr>\n",
       "    <tr>\n",
       "      <th>3</th>\n",
       "      <td>RL2</td>\n",
       "      <td>valid</td>\n",
       "      <td>0.510786</td>\n",
       "      <td>0.669565</td>\n",
       "      <td>0.428571</td>\n",
       "      <td>0.282150</td>\n",
       "      <td>0.729378</td>\n",
       "    </tr>\n",
       "    <tr>\n",
       "      <th>1</th>\n",
       "      <td>RL1</td>\n",
       "      <td>valid</td>\n",
       "      <td>0.508352</td>\n",
       "      <td>0.667826</td>\n",
       "      <td>0.434402</td>\n",
       "      <td>0.282197</td>\n",
       "      <td>0.725760</td>\n",
       "    </tr>\n",
       "  </tbody>\n",
       "</table>\n",
       "</div>"
      ],
      "text/plain": [
       "  classificador data_set       auc  accuracy    recall  precision  specificity\n",
       "9           RFC    valid  0.993254  0.958261  0.982507   0.836228     0.950072\n",
       "7           XGB    valid  0.992178  0.966377  0.947522   0.890411     0.971056\n",
       "5            NB    valid  0.986101  0.960000  0.892128   0.905325     0.976845\n",
       "3           RL2    valid  0.510786  0.669565  0.428571   0.282150     0.729378\n",
       "1           RL1    valid  0.508352  0.667826  0.434402   0.282197     0.725760"
      ]
     },
     "execution_count": 54,
     "metadata": {},
     "output_type": "execute_result"
    }
   ],
   "source": [
    "# Resultados em validação com ordenação pelo AUC\n",
    "df_results[df_results['data_set'] == 'valid'].sort_values(by = 'auc', ascending = False)"
   ]
  },
  {
   "cell_type": "markdown",
   "metadata": {},
   "source": [
    "A métrica de desempenho escolhida será a pontuação AUC (AUC Score) do conjunto de validação. É a pontuação mais comum usada para comparar modelos de algoritmos diferentes."
   ]
  },
  {
   "cell_type": "code",
   "execution_count": 57,
   "metadata": {},
   "outputs": [
    {
     "data": {
      "text/plain": [
       "<matplotlib.legend.Legend at 0x20c70925d60>"
      ]
     },
     "execution_count": 57,
     "metadata": {},
     "output_type": "execute_result"
    },
    {
     "data": {
      "image/png": "[encoded data removed]",
      "text/plain": [
       "<Figure size 1600x800 with 1 Axes>"
      ]
     },
     "metadata": {},
     "output_type": "display_data"
    }
   ],
   "source": [
    "# Construção do Plot\n",
    "sns.set_style(\"whitegrid\")\n",
    "plt.figure(figsize = (16, 8))\n",
    "\n",
    "# Gráfico de barras\n",
    "ax = sns.barplot(x = 'classificador', y = 'auc', hue = 'data_set', data = df_results)\n",
    "ax.set_xlabel('Classificador', fontsize = 15)\n",
    "ax.set_ylabel('AUC', fontsize = 15)\n",
    "ax.tick_params(labelsize = 15)\n",
    "\n",
    "# Legenda\n",
    "plt.legend(bbox_to_anchor = (1.05, 1), loc = 2, borderaxespad = 0., fontsize = 15)"
   ]
  },
  {
   "cell_type": "markdown",
   "metadata": {},
   "source": [
    "## Otimização de Hiperparâmetros e Validação Cruzada\n",
    "\n",
    "Será que conseguimos melhorar a performance do melhor modelo? \n",
    "\n",
    "Para incluir a otimização de hiperparâmetros e a validação cruzada no projeto, você pode usar o GridSearchCV do scikit-learn, que permite buscar a melhor combinação de hiperparâmetros para o modelo. Vamos usar o RandomForest como modelo base.\n"
   ]
  },
  {
   "cell_type": "code",
   "execution_count": 60,
   "metadata": {},
   "outputs": [
    {
     "name": "stdout",
     "output_type": "stream",
     "text": [
      "Fitting 5 folds for each of 108 candidates, totalling 540 fits\n",
      "Melhores hiperparâmetros: {'max_depth': None, 'min_samples_leaf': 1, 'min_samples_split': 5, 'n_estimators': 100}\n",
      "Modelo Random Forest Classifier com Otimização de Hiperparâmetros e Validação Cruzada:\n",
      "\n",
      "Treinamento:\n",
      "\n",
      "AUC:1.000\n",
      "Acurácia:0.999\n",
      "Recall:0.999\n",
      "Precisão:0.999\n",
      "Especificidade:0.999\n",
      " \n",
      "Validação:\n",
      "\n",
      "AUC:0.992\n",
      "Acurácia:0.958\n",
      "Recall:0.980\n",
      "Precisão:0.838\n",
      "Especificidade:0.953\n",
      " \n",
      "CPU times: total: 3.31 s\n",
      "Wall time: 2min 48s\n"
     ]
    }
   ],
   "source": [
    "%%time\n",
    "\n",
    "# Importa a função GridSearchCV\n",
    "from sklearn.model_selection import GridSearchCV\n",
    "\n",
    "# Defina o espaço de busca dos hiperparâmetros\n",
    "param_grid = {\n",
    "    'n_estimators': [100, 200, 300],\n",
    "    'max_depth': [None, 10, 20, 30],\n",
    "    'min_samples_split': [2, 5, 10],\n",
    "    'min_samples_leaf': [1, 2, 4]\n",
    "}\n",
    "\n",
    "# Cria o classificador com RandomForest\n",
    "classificador = RandomForestClassifier()\n",
    "\n",
    "# Configura o GridSearchCV\n",
    "grid_search = GridSearchCV(estimator = classificador, \n",
    "                           param_grid = param_grid, \n",
    "                           cv = 5, \n",
    "                           scoring = 'roc_auc', \n",
    "                           verbose = 2, \n",
    "                           n_jobs = -1)\n",
    "\n",
    "# Treina o modelo com validação cruzada e busca pelos melhores hiperparâmetros\n",
    "modelo_v5_otimizado = grid_search.fit(X_treino_tf, y_treino)\n",
    "\n",
    "# Melhores hiperparâmetros encontrados\n",
    "print('Melhores hiperparâmetros:', modelo_v5_otimizado.best_params_)\n",
    "\n",
    "# Previsões\n",
    "y_train_preds = modelo_v5_otimizado.predict_proba(X_treino_tf)[:,1]\n",
    "y_valid_preds = modelo_v5_otimizado.predict_proba(X_valid_tf)[:,1]\n",
    "\n",
    "print('Modelo Random Forest Classifier com Otimização de Hiperparâmetros e Validação Cruzada:\\n')\n",
    "\n",
    "print('Treinamento:\\n')\n",
    "rfc_train_auc, rfc_train_accuracy, rfc_train_recall, rfc_train_precision, rfc_train_specificity = df_print_report(y_treino, \n",
    "                                                                                                                   y_train_preds, \n",
    "                                                                                                                   thresh)\n",
    "\n",
    "print('Validação:\\n')\n",
    "rfc_valid_auc, rfc_valid_accuracy, rfc_valid_recall, rfc_valid_precision, rfc_valid_specificity = df_print_report(y_valid, \n",
    "                                                                                                                   y_valid_preds, \n",
    "                                                                                                                   thresh)\n"
   ]
  },
  {
   "cell_type": "markdown",
   "metadata": {},
   "source": [
    "## Qual Versão Final Devemos Usar?"
   ]
  },
  {
   "cell_type": "markdown",
   "metadata": {},
   "source": [
    "Modelo RandomForest \"Vanilla\":\n",
    "\n",
    "Validação:\n",
    "\n",
    "- AUC:0.993\n",
    "- Acurácia:0.958\n",
    "- Recall:0.977\n",
    "- Precisão:0.838\n",
    "- Especificidade:0.951\n",
    " \n",
    "\n",
    "Modelo RandomForest Otimizado:\n",
    "\n",
    "Validação:\n",
    "\n",
    "- AUC:0.993\n",
    "- Acurácia:0.961\n",
    "- Recall:0.980\n",
    "- Precisão:0.846\n",
    "- Especificidade:0.956\n",
    "\n",
    "Ambos os modelos com RandomForest apresentam desempenho muito alto, mas há algumas nuances a serem consideradas ao escolher qual deles usar:\n",
    "\n",
    "**Desempenho na validação**: O modelo com otimização de hiperparâmetros tem uma AUC ligeiramente maior na validação, o que indica que ele pode generalizar um pouco melhor. No entanto, outras métricas são um pouco menores nesse modelo. Essas diferenças são pequenas e podem não ser significativas, dependendo do contexto e da importância relativa dessas métricas para o seu problema específico.\n",
    "\n",
    "**Complexidade e tempo de treinamento**: A otimização de hiperparâmetros aumenta a complexidade do processo de treinamento e o tempo necessário para treinar o modelo. Se o tempo de treinamento for uma preocupação e as diferenças de desempenho forem consideradas insignificantes, você pode optar pelo modelo sem otimização de hiperparâmetros.\n",
    "\n",
    "Se você estiver preocupado com o overfitting e quiser um modelo que possa generalizar um pouco melhor para novos dados, o modelo com otimização de hiperparâmetros pode ser a melhor escolha, apesar de seu desempenho ligeiramente inferior na validação em algumas métricas. No entanto, se o tempo de treinamento for uma preocupação e as diferenças de desempenho forem aceitáveis para o seu caso de uso, o modelo sem otimização de hiperparâmetros pode ser suficiente.\n",
    "\n",
    "Decisão: Usaremos o modelo RandomForest sem otimização de hiperparâmetros pois é mais simples e requer menos tempo de treinamento."
   ]
  },
  {
   "cell_type": "markdown",
   "metadata": {},
   "source": [
    "### Salvando o Melhor Modelo"
   ]
  },
  {
   "cell_type": "code",
   "execution_count": 63,
   "metadata": {},
   "outputs": [],
   "source": [
    "# Grava o modelo em disco\n",
    "pickle.dump(modelo_v5, open('modelos/melhor_modelo.pkl', 'wb'), protocol = 4)"
   ]
  },
  {
   "cell_type": "markdown",
   "metadata": {},
   "source": [
    "> Vamos fazer a avaliação final do melhor modelo."
   ]
  },
  {
   "cell_type": "code",
   "execution_count": 65,
   "metadata": {},
   "outputs": [],
   "source": [
    "# Carrega o modelo, as colunas e o scaler\n",
    "best_model = pickle.load(open('modelos/melhor_modelo.pkl','rb'))\n",
    "cols_input = pickle.load(open('dados/colunas_entrada.sav','rb'))\n",
    "scaler = pickle.load(open('dados/scaler.sav', 'rb'))\n",
    "\n",
    "# Carrega os dados\n",
    "df_train = pd.read_csv('dados/dados_treino_final.csv')\n",
    "df_valid = pd.read_csv('dados/dados_valid.csv')\n",
    "df_test = pd.read_csv('dados/dados_teste.csv')\n",
    "\n",
    "# Cria matrizes x e y\n",
    "\n",
    "# X\n",
    "X_train = df_train[cols_input].values\n",
    "X_valid = df_valid[cols_input].values\n",
    "X_test = df_test[cols_input].values\n",
    "\n",
    "# Y\n",
    "y_train = df_train['LABEL_TARGET'].values\n",
    "y_valid = df_valid['LABEL_TARGET'].values\n",
    "y_test = df_test['LABEL_TARGET'].values\n",
    "\n",
    "# Aplica a transformação nos dados\n",
    "X_train_tf = scaler.transform(X_train)\n",
    "X_valid_tf = scaler.transform(X_valid)\n",
    "X_test_tf = scaler.transform(X_test)"
   ]
  },
  {
   "cell_type": "code",
   "execution_count": 67,
   "metadata": {},
   "outputs": [],
   "source": [
    "# Previsões de probabilidade\n",
    "y_train_preds = best_model.predict_proba(X_train_tf)[:,1]\n",
    "y_valid_preds = best_model.predict_proba(X_valid_tf)[:,1]\n",
    "y_test_preds = best_model.predict_proba(X_test_tf)[:,1]"
   ]
  },
  {
   "cell_type": "markdown",
   "metadata": {},
   "source": [
    "> Avaliação final."
   ]
  },
  {
   "cell_type": "code",
   "execution_count": 69,
   "metadata": {},
   "outputs": [
    {
     "name": "stdout",
     "output_type": "stream",
     "text": [
      "\n",
      "Treinamento:\n",
      "\n",
      "AUC:1.000\n",
      "Acurácia:1.000\n",
      "Recall:1.000\n",
      "Precisão:1.000\n",
      "Especificidade:1.000\n",
      " \n",
      "\n",
      "Validação:\n",
      "\n",
      "AUC:0.993\n",
      "Acurácia:0.958\n",
      "Recall:0.983\n",
      "Precisão:0.836\n",
      "Especificidade:0.950\n",
      " \n",
      "\n",
      "Teste:\n",
      "\n",
      "AUC:0.994\n",
      "Acurácia:0.956\n",
      "Recall:0.982\n",
      "Precisão:0.826\n",
      "Especificidade:0.949\n",
      " \n"
     ]
    }
   ],
   "source": [
    "thresh = 0.5\n",
    "\n",
    "print('\\nTreinamento:\\n')\n",
    "train_auc, train_accuracy, train_recall, train_precision, train_specificity = df_print_report(y_train,\n",
    "                                                                                               y_train_preds, \n",
    "                                                                                               thresh)\n",
    "\n",
    "print('\\nValidação:\\n')\n",
    "valid_auc, valid_accuracy, valid_recall, valid_precision, valid_specificity = df_print_report(y_valid,\n",
    "                                                                                               y_valid_preds, \n",
    "                                                                                               thresh)\n",
    "\n",
    "print('\\nTeste:\\n')\n",
    "test_auc, test_accuracy, test_recall, test_precision, test_specificity = df_print_report(y_test,\n",
    "                                                                                          y_test_preds, \n",
    "                                                                                          thresh)"
   ]
  },
  {
   "cell_type": "code",
   "execution_count": 71,
   "metadata": {},
   "outputs": [
    {
     "data": {
      "image/png": "[encoded data removed]",
      "text/plain": [
       "<Figure size 1600x1000 with 1 Axes>"
      ]
     },
     "metadata": {},
     "output_type": "display_data"
    }
   ],
   "source": [
    "# Calcula a curva ROC nos dados de treino\n",
    "fpr_train, tpr_train, thresholds_train = roc_curve(y_train, y_train_preds)\n",
    "auc_train = roc_auc_score(y_train, y_train_preds)\n",
    "\n",
    "# Calcula a curva ROC nos dados de validação\n",
    "fpr_valid, tpr_valid, thresholds_valid = roc_curve(y_valid, y_valid_preds)\n",
    "auc_valid = roc_auc_score(y_valid, y_valid_preds)\n",
    "\n",
    "# Calcula a curva ROC nos dados de teste\n",
    "fpr_test, tpr_test, thresholds_test = roc_curve(y_test, y_test_preds)\n",
    "auc_test = roc_auc_score(y_test, y_test_preds)\n",
    "\n",
    "# Plot\n",
    "plt.figure(figsize=(16,10))\n",
    "plt.plot(fpr_train, tpr_train, 'r-', label = 'AUC em Treino: %.3f'%auc_train)\n",
    "plt.plot(fpr_valid, tpr_valid, 'b-', label = 'AUC em Validação: %.3f'%auc_valid)\n",
    "plt.plot(fpr_test, tpr_test, 'g-', label = 'AUC em Teste: %.3f'%auc_test)\n",
    "plt.plot([0,1],[0,1],'k--')\n",
    "plt.xlabel('Taxa de Falso Positivo')\n",
    "plt.ylabel('Taxa de Verdadeiro Positivo')\n",
    "plt.legend()\n",
    "plt.show()"
   ]
  },
  {
   "cell_type": "markdown",
   "metadata": {},
   "source": [
    "## Deploy do Modelo"
   ]
  },
  {
   "cell_type": "code",
   "execution_count": 74,
   "metadata": {},
   "outputs": [],
   "source": [
    "# Carregando dados de um novo cliente\n",
    "novo_cliente = pd.read_csv('dados/novo_cliente.csv')"
   ]
  },
  {
   "cell_type": "code",
   "execution_count": 76,
   "metadata": {},
   "outputs": [
    {
     "data": {
      "text/html": [
       "<div>\n",
       "<style scoped>\n",
       "    .dataframe tbody tr th:only-of-type {\n",
       "        vertical-align: middle;\n",
       "    }\n",
       "\n",
       "    .dataframe tbody tr th {\n",
       "        vertical-align: top;\n",
       "    }\n",
       "\n",
       "    .dataframe thead th {\n",
       "        text-align: right;\n",
       "    }\n",
       "</style>\n",
       "<table border=\"1\" class=\"dataframe\">\n",
       "  <thead>\n",
       "    <tr style=\"text-align: right;\">\n",
       "      <th></th>\n",
       "      <th>X1</th>\n",
       "      <th>X2</th>\n",
       "      <th>X3</th>\n",
       "      <th>X4</th>\n",
       "      <th>X5</th>\n",
       "      <th>X6</th>\n",
       "      <th>X7</th>\n",
       "      <th>X8</th>\n",
       "      <th>X9</th>\n",
       "      <th>X10</th>\n",
       "      <th>...</th>\n",
       "      <th>X169</th>\n",
       "      <th>X170</th>\n",
       "      <th>X171</th>\n",
       "      <th>X172</th>\n",
       "      <th>X173</th>\n",
       "      <th>X174</th>\n",
       "      <th>X175</th>\n",
       "      <th>X176</th>\n",
       "      <th>X177</th>\n",
       "      <th>X178</th>\n",
       "    </tr>\n",
       "  </thead>\n",
       "  <tbody>\n",
       "    <tr>\n",
       "      <th>0</th>\n",
       "      <td>42</td>\n",
       "      <td>53</td>\n",
       "      <td>44</td>\n",
       "      <td>31</td>\n",
       "      <td>15</td>\n",
       "      <td>12</td>\n",
       "      <td>6</td>\n",
       "      <td>4</td>\n",
       "      <td>1</td>\n",
       "      <td>-4</td>\n",
       "      <td>...</td>\n",
       "      <td>-41</td>\n",
       "      <td>-16</td>\n",
       "      <td>2</td>\n",
       "      <td>22</td>\n",
       "      <td>33</td>\n",
       "      <td>45</td>\n",
       "      <td>56</td>\n",
       "      <td>67</td>\n",
       "      <td>69</td>\n",
       "      <td>63</td>\n",
       "    </tr>\n",
       "  </tbody>\n",
       "</table>\n",
       "<p>1 rows × 178 columns</p>\n",
       "</div>"
      ],
      "text/plain": [
       "   X1  X2  X3  X4  X5  X6  X7  X8  X9  X10  ...  X169  X170  X171  X172  X173  \\\n",
       "0  42  53  44  31  15  12   6   4   1   -4  ...   -41   -16     2    22    33   \n",
       "\n",
       "   X174  X175  X176  X177  X178  \n",
       "0    45    56    67    69    63  \n",
       "\n",
       "[1 rows x 178 columns]"
      ]
     },
     "execution_count": 76,
     "metadata": {},
     "output_type": "execute_result"
    }
   ],
   "source": [
    "novo_cliente.head()"
   ]
  },
  {
   "cell_type": "code",
   "execution_count": 78,
   "metadata": {},
   "outputs": [],
   "source": [
    "novo_cliente_scaled = scaler.transform(novo_cliente)"
   ]
  },
  {
   "cell_type": "code",
   "execution_count": 80,
   "metadata": {},
   "outputs": [
    {
     "data": {
      "text/plain": [
       "array([[ 0.23430103,  0.26330964,  0.21327887,  0.14547427,  0.06433421,\n",
       "         0.04162138,  0.01245067,  0.00948678,  0.0004072 , -0.02089583,\n",
       "        -0.05982225, -0.08823802, -0.09422636, -0.08206851, -0.05688321,\n",
       "        -0.04513061, -0.04888646, -0.05884649, -0.03954335, -0.0268048 ,\n",
       "        -0.03954517, -0.01361066,  0.0141796 ,  0.02964142,  0.02434803,\n",
       "         0.02553403,  0.05046526,  0.07622867,  0.10625282,  0.10435503,\n",
       "         0.08770101,  0.03628219,  0.02035452,  0.00290372,  0.02560331,\n",
       "         0.04788545,  0.0803539 ,  0.11439743,  0.1269662 ,  0.15967329,\n",
       "         0.17008419,  0.18494295,  0.17441442,  0.19293274,  0.19279889,\n",
       "         0.18807764,  0.17420266,  0.13057865,  0.07347198,  0.02760618,\n",
       "         0.01334455, -0.04209115, -0.09817825, -0.14470692, -0.17500193,\n",
       "        -0.19419077, -0.19392033, -0.18826305, -0.17409285, -0.13599362,\n",
       "        -0.09777884, -0.06104059, -0.02889629, -0.05156025, -0.04717145,\n",
       "        -0.04596022, -0.03446032,  0.01195965,  0.03893321,  0.0373783 ,\n",
       "         0.04897371,  0.06277512,  0.04151786,  0.03451541,  0.03303438,\n",
       "         0.04821578,  0.04004553,  0.03006032,  0.0161595 , -0.00241662,\n",
       "         0.00900281,  0.0302865 ,  0.0464644 ,  0.01280915, -0.01307601,\n",
       "        -0.07096971, -0.13670029, -0.20694895, -0.2661598 , -0.28711199,\n",
       "        -0.3258422 , -0.3282124 , -0.34373589, -0.33060182, -0.31391853,\n",
       "        -0.24877619, -0.21758679, -0.19865697, -0.19442219, -0.20640034,\n",
       "        -0.23026813, -0.24464804, -0.23612009, -0.19930386, -0.16999071,\n",
       "        -0.11359187, -0.06701702, -0.00689455,  0.07487416,  0.14273801,\n",
       "         0.18102447,  0.21192595,  0.22468387,  0.19451635,  0.13239492,\n",
       "         0.06419321,  0.01364013, -0.04283618, -0.09554414, -0.12778041,\n",
       "        -0.15825563, -0.16683742, -0.14647313, -0.13592513, -0.12082832,\n",
       "        -0.10651906, -0.09440598, -0.07773181, -0.08372169, -0.01298693,\n",
       "         0.0404926 ,  0.1156674 ,  0.16052478,  0.19914031,  0.19533026,\n",
       "         0.16293932,  0.13569178,  0.11222415,  0.10746353,  0.07659351,\n",
       "         0.06062224,  0.05279814,  0.03523791,  0.03867343,  0.03949179,\n",
       "         0.02724695,  0.04555068,  0.08265493,  0.11888091,  0.12544782,\n",
       "         0.15569513,  0.14403063,  0.12635596,  0.08979671,  0.05235513,\n",
       "         0.01632025, -0.00680503, -0.04425756, -0.0873799 , -0.15100895,\n",
       "        -0.17225842, -0.17389066, -0.21216431, -0.23642102, -0.27989873,\n",
       "        -0.28464329, -0.27150487, -0.21309039, -0.14158598, -0.03804823,\n",
       "         0.0491009 ,  0.14330831,  0.19777904,  0.24797271,  0.29513364,\n",
       "         0.34228122,  0.35139939,  0.32405213]])"
      ]
     },
     "execution_count": 80,
     "metadata": {},
     "output_type": "execute_result"
    }
   ],
   "source": [
    "novo_cliente_scaled"
   ]
  },
  {
   "cell_type": "code",
   "execution_count": 82,
   "metadata": {},
   "outputs": [
    {
     "data": {
      "text/plain": [
       "array([[1., 0.]])"
      ]
     },
     "execution_count": 82,
     "metadata": {},
     "output_type": "execute_result"
    }
   ],
   "source": [
    "best_model.predict_proba(novo_cliente_scaled)"
   ]
  },
  {
   "cell_type": "code",
   "execution_count": 84,
   "metadata": {},
   "outputs": [
    {
     "data": {
      "text/plain": [
       "array([0], dtype=int64)"
      ]
     },
     "execution_count": 84,
     "metadata": {},
     "output_type": "execute_result"
    }
   ],
   "source": [
    "best_model.predict(novo_cliente_scaled)"
   ]
  },
  {
   "cell_type": "markdown",
   "metadata": {},
   "source": [
    "De acordo com a previsão do modelo, esse cliente não vai fazer a renovação do seguro."
   ]
  },
  {
   "cell_type": "markdown",
   "metadata": {},
   "source": [
    "# Fim"
   ]
  }
 ],
 "metadata": {
  "kernelspec": {
   "display_name": "venvMain",
   "language": "python",
   "name": "venvmain"
  },
  "language_info": {
   "codemirror_mode": {
    "name": "ipython",
    "version": 3
   },
   "file_extension": ".py",
   "mimetype": "text/x-python",
   "name": "python",
   "nbconvert_exporter": "python",
   "pygments_lexer": "ipython3",
   "version": "3.12.0"
  }
 },
 "nbformat": 4,
 "nbformat_minor": 4
}
